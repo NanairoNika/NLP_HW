{
 "cells": [
  {
   "cell_type": "code",
   "execution_count": 64,
   "metadata": {},
   "outputs": [],
   "source": [
    "#Текст разбит на строки\n",
    "f = open('Splitted.txt', encoding = 'utf-8') \n",
    "text = f.read()\n",
    "splittedtext = text.split('\\n')\n",
    "f.close()"
   ]
  },
  {
   "cell_type": "code",
   "execution_count": 65,
   "metadata": {},
   "outputs": [],
   "source": [
    "#Сплошной текст\n",
    "f = open('Unsplitted.txt', encoding = 'utf-8') \n",
    "unsplittedtext = f.read()"
   ]
  },
  {
   "cell_type": "code",
   "execution_count": 66,
   "metadata": {},
   "outputs": [],
   "source": [
    "#разбиение рег\n",
    "import re \n",
    "regex = '(?<=[\\?\\.\\!])\\s(?=[А-Я])'\n",
    "regsplitted = re.split(regex, unsplittedtext)"
   ]
  },
  {
   "cell_type": "code",
   "execution_count": 67,
   "metadata": {
    "scrolled": true
   },
   "outputs": [
    {
     "name": "stdout",
     "output_type": "stream",
     "text": [
      " Test split for reg - 36 \n",
      " Gold split for reg- 38\n",
      " Intersections for reg - 0.8048780487804879\n",
      " Precision for reg -  1.0\n",
      " Recall for reg -  1.0\n",
      " F1 for reg -  1.0\n"
     ]
    }
   ],
   "source": [
    "#Метрики\n",
    "print(' Test split for reg -', len(regsplitted), '\\n', 'Gold split for reg-', len(splittedtext)) \n",
    "intacc = len(set(splittedtext) & set(regsplitted)) / len(set(splittedtext) | set(regsplitted))\n",
    "print(' Intersections for reg -', intacc)\n",
    "tp = 0\n",
    "fp = 0\n",
    "fn = 0\n",
    "\n",
    "for sent in splittedtext:\n",
    "    if len(re.split(regex, sent)) == 1:\n",
    "        tp += 1\n",
    "    else:\n",
    "        fp += 1\n",
    "\n",
    "for i in range(len(splittedtext)-1):\n",
    "    sent1, sent2 = splittedtext[i], splittedtext[i+1]\n",
    "    sent = ' '.join([sent1, sent2])\n",
    "    if len(re.split(regex, sent)) == 2:\n",
    "        tp += 1\n",
    "    else:\n",
    "        fn += 1\n",
    "\n",
    "precision = (tp/(tp+fp))\n",
    "recall = (tp/(tp+fn))\n",
    "f1 = 2*(precision*recall)/(precision+recall)\n",
    "print(' Precision for reg - ', precision)\n",
    "print(' Recall for reg - ', recall)\n",
    "print(' F1 for reg - ', f1)"
   ]
  },
  {
   "cell_type": "code",
   "execution_count": 68,
   "metadata": {},
   "outputs": [
    {
     "name": "stdout",
     "output_type": "stream",
     "text": [
      "set()\n"
     ]
    }
   ],
   "source": [
    "#SentTokenizer abbs\n",
    "from pprint import pprint\n",
    "from nltk.tokenize.punkt import PunktSentenceTokenizer, PunktTrainer\n",
    "\n",
    "trainer = PunktTrainer()\n",
    "trainer.INCLUDE_ALL_COLLOCS = True\n",
    "sample_text = '\\n'.join(splittedtext)\n",
    "trainer.train(sample_text)\n",
    "tokenizer = PunktSentenceTokenizer(trainer.get_params())\n",
    "print(tokenizer._params.abbrev_types)"
   ]
  },
  {
   "cell_type": "code",
   "execution_count": 69,
   "metadata": {},
   "outputs": [],
   "source": [
    "#Training SentTokenizer\n",
    "samp_tokenizer = PunktSentenceTokenizer(sample_text)\n",
    "tokenized = samp_tokenizer.tokenize(sample_text)"
   ]
  },
  {
   "cell_type": "code",
   "execution_count": 70,
   "metadata": {},
   "outputs": [
    {
     "name": "stdout",
     "output_type": "stream",
     "text": [
      " Test split for ST - 38 \n",
      " Gold split for ST- 38\n",
      " Intersections for ST - 1.0\n",
      " Precision for ST -  1.0\n",
      " Recall for ST -  1.0\n",
      " F1 for ST -  1.0\n"
     ]
    }
   ],
   "source": [
    "print(' Test split for ST -', len(tokenized), '\\n', 'Gold split for ST-', len(splittedtext)) \n",
    "newintacc = len(set(splittedtext) & set(tokenized)) / len(set(splittedtext) | set(tokenized))\n",
    "print(' Intersections for ST -', newintacc)\n",
    "\n",
    "tp = 0\n",
    "fp = 0\n",
    "fn = 0\n",
    "\n",
    "for sent in splittedtext:\n",
    "    if len(samp_tokenizer.tokenize(sent)) == 1:\n",
    "        tp += 1\n",
    "    else:\n",
    "        fp += 1\n",
    "\n",
    "for i in range(len(splittedtext)-1):\n",
    "    sent1, sent2 = splittedtext[i], splittedtext[i+1]\n",
    "    sent = ' '.join([sent1, sent2])\n",
    "    if len(samp_tokenizer.tokenize(sent)) == 2:\n",
    "        tp += 1\n",
    "    else:\n",
    "        fn += 1\n",
    "\n",
    "precision = (tp/(tp+fp))\n",
    "recall = (tp/(tp+fn))\n",
    "f1 = 2*(precision*recall)/(precision+recall)\n",
    "print(' Precision for ST - ', precision)\n",
    "print(' Recall for ST - ', recall)\n",
    "print(' F1 for ST - ', f1)"
   ]
  }
 ],
 "metadata": {
  "kernelspec": {
   "display_name": "Python 3",
   "language": "python",
   "name": "python3"
  },
  "language_info": {
   "codemirror_mode": {
    "name": "ipython",
    "version": 3
   },
   "file_extension": ".py",
   "mimetype": "text/x-python",
   "name": "python",
   "nbconvert_exporter": "python",
   "pygments_lexer": "ipython3",
   "version": "3.7.3"
  }
 },
 "nbformat": 4,
 "nbformat_minor": 2
}
