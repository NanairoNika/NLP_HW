{
  "nbformat": 4,
  "nbformat_minor": 0,
  "metadata": {
    "colab": {
      "name": "NLP_HW_3.ipynb",
      "version": "0.3.2",
      "provenance": [],
      "collapsed_sections": []
    },
    "kernelspec": {
      "name": "python3",
      "display_name": "Python 3"
    },
    "accelerator": "GPU"
  },
  "cells": [
    {
      "cell_type": "markdown",
      "metadata": {
        "id": "NPOgMnI-81so",
        "colab_type": "text"
      },
      "source": [
        "Про существующие инструменты хорошо написано вот тут  - http://web-corpora.net/wsgi/mystemplus.wsgi/mystemplus/instructions/"
      ]
    },
    {
      "cell_type": "markdown",
      "metadata": {
        "id": "P6H5NM8O9BJf",
        "colab_type": "text"
      },
      "source": [
        "Не все из списка просто установить даже в колабе. Воспользуемся TreeTagger. Он хотя бы работает."
      ]
    },
    {
      "cell_type": "markdown",
      "metadata": {
        "id": "t6g4DGAj9BMp",
        "colab_type": "text"
      },
      "source": [
        "Скачиваем нужные файлы по инструкции."
      ]
    },
    {
      "cell_type": "code",
      "metadata": {
        "id": "QJSOrmGM80vJ",
        "colab_type": "code",
        "outputId": "65024f62-02a4-4896-afda-c1c91521cb58",
        "colab": {
          "base_uri": "https://localhost:8080/",
          "height": 277
        }
      },
      "source": [
        "!wget http://www.cis.uni-muenchen.de/~schmid/tools/TreeTagger/data/tree-tagger-linux-3.2.2.tar.gz"
      ],
      "execution_count": 2,
      "outputs": [
        {
          "output_type": "stream",
          "text": [
            "--2019-06-16 11:42:08--  http://www.cis.uni-muenchen.de/~schmid/tools/TreeTagger/data/tree-tagger-linux-3.2.2.tar.gz\n",
            "Resolving www.cis.uni-muenchen.de (www.cis.uni-muenchen.de)... 129.187.148.72, 2001:4ca0:4f01::5\n",
            "Connecting to www.cis.uni-muenchen.de (www.cis.uni-muenchen.de)|129.187.148.72|:80... connected.\n",
            "HTTP request sent, awaiting response... 302 Found\n",
            "Location: https://www.cis.uni-muenchen.de/~schmid/tools/TreeTagger/data/tree-tagger-linux-3.2.2.tar.gz [following]\n",
            "--2019-06-16 11:42:09--  https://www.cis.uni-muenchen.de/~schmid/tools/TreeTagger/data/tree-tagger-linux-3.2.2.tar.gz\n",
            "Connecting to www.cis.uni-muenchen.de (www.cis.uni-muenchen.de)|129.187.148.72|:443... connected.\n",
            "HTTP request sent, awaiting response... 200 OK\n",
            "Length: 1821366 (1.7M) [application/x-gzip]\n",
            "Saving to: ‘tree-tagger-linux-3.2.2.tar.gz’\n",
            "\n",
            "tree-tagger-linux-3 100%[===================>]   1.74M   995KB/s    in 1.8s    \n",
            "\n",
            "2019-06-16 11:42:12 (995 KB/s) - ‘tree-tagger-linux-3.2.2.tar.gz’ saved [1821366/1821366]\n",
            "\n"
          ],
          "name": "stdout"
        }
      ]
    },
    {
      "cell_type": "code",
      "metadata": {
        "id": "uAH8K4T_5z8o",
        "colab_type": "code",
        "outputId": "aaf0fbfb-4ed6-41b6-f218-95e20cf0b3d4",
        "colab": {
          "base_uri": "https://localhost:8080/",
          "height": 277
        }
      },
      "source": [
        "!wget http://www.cis.uni-muenchen.de/~schmid/tools/TreeTagger/data/tagger-scripts.tar.gz"
      ],
      "execution_count": 3,
      "outputs": [
        {
          "output_type": "stream",
          "text": [
            "--2019-06-16 11:42:13--  http://www.cis.uni-muenchen.de/~schmid/tools/TreeTagger/data/tagger-scripts.tar.gz\n",
            "Resolving www.cis.uni-muenchen.de (www.cis.uni-muenchen.de)... 129.187.148.72, 2001:4ca0:4f01::5\n",
            "Connecting to www.cis.uni-muenchen.de (www.cis.uni-muenchen.de)|129.187.148.72|:80... connected.\n",
            "HTTP request sent, awaiting response... 302 Found\n",
            "Location: https://www.cis.uni-muenchen.de/~schmid/tools/TreeTagger/data/tagger-scripts.tar.gz [following]\n",
            "--2019-06-16 11:42:14--  https://www.cis.uni-muenchen.de/~schmid/tools/TreeTagger/data/tagger-scripts.tar.gz\n",
            "Connecting to www.cis.uni-muenchen.de (www.cis.uni-muenchen.de)|129.187.148.72|:443... connected.\n",
            "HTTP request sent, awaiting response... 200 OK\n",
            "Length: 101810 (99K) [application/x-gzip]\n",
            "Saving to: ‘tagger-scripts.tar.gz’\n",
            "\n",
            "tagger-scripts.tar. 100%[===================>]  99.42K   165KB/s    in 0.6s    \n",
            "\n",
            "2019-06-16 11:42:16 (165 KB/s) - ‘tagger-scripts.tar.gz’ saved [101810/101810]\n",
            "\n"
          ],
          "name": "stdout"
        }
      ]
    },
    {
      "cell_type": "code",
      "metadata": {
        "id": "8SJ8rbYf5z-e",
        "colab_type": "code",
        "outputId": "9850fcd2-f126-427a-8c06-1d57e6bb42d6",
        "colab": {
          "base_uri": "https://localhost:8080/",
          "height": 277
        }
      },
      "source": [
        "!wget http://www.cis.uni-muenchen.de/~schmid/tools/TreeTagger/data/install-tagger.sh"
      ],
      "execution_count": 4,
      "outputs": [
        {
          "output_type": "stream",
          "text": [
            "--2019-06-16 11:42:19--  http://www.cis.uni-muenchen.de/~schmid/tools/TreeTagger/data/install-tagger.sh\n",
            "Resolving www.cis.uni-muenchen.de (www.cis.uni-muenchen.de)... 129.187.148.72, 2001:4ca0:4f01::5\n",
            "Connecting to www.cis.uni-muenchen.de (www.cis.uni-muenchen.de)|129.187.148.72|:80... connected.\n",
            "HTTP request sent, awaiting response... 302 Found\n",
            "Location: https://www.cis.uni-muenchen.de/~schmid/tools/TreeTagger/data/install-tagger.sh [following]\n",
            "--2019-06-16 11:42:19--  https://www.cis.uni-muenchen.de/~schmid/tools/TreeTagger/data/install-tagger.sh\n",
            "Connecting to www.cis.uni-muenchen.de (www.cis.uni-muenchen.de)|129.187.148.72|:443... connected.\n",
            "HTTP request sent, awaiting response... 200 OK\n",
            "Length: 12417 (12K) [application/x-shellscript]\n",
            "Saving to: ‘install-tagger.sh’\n",
            "\n",
            "install-tagger.sh   100%[===================>]  12.13K  --.-KB/s    in 0s      \n",
            "\n",
            "2019-06-16 11:42:20 (182 MB/s) - ‘install-tagger.sh’ saved [12417/12417]\n",
            "\n"
          ],
          "name": "stdout"
        }
      ]
    },
    {
      "cell_type": "code",
      "metadata": {
        "id": "n__NxBzk50DC",
        "colab_type": "code",
        "outputId": "258939ed-3d39-463b-9393-e338e60aa85e",
        "colab": {
          "base_uri": "https://localhost:8080/",
          "height": 277
        }
      },
      "source": [
        "!wget http://www.cis.uni-muenchen.de/~schmid/tools/TreeTagger/data/russian.par.gz"
      ],
      "execution_count": 5,
      "outputs": [
        {
          "output_type": "stream",
          "text": [
            "--2019-06-16 11:42:24--  http://www.cis.uni-muenchen.de/~schmid/tools/TreeTagger/data/russian.par.gz\n",
            "Resolving www.cis.uni-muenchen.de (www.cis.uni-muenchen.de)... 129.187.148.72, 2001:4ca0:4f01::5\n",
            "Connecting to www.cis.uni-muenchen.de (www.cis.uni-muenchen.de)|129.187.148.72|:80... connected.\n",
            "HTTP request sent, awaiting response... 302 Found\n",
            "Location: https://www.cis.uni-muenchen.de/~schmid/tools/TreeTagger/data/russian.par.gz [following]\n",
            "--2019-06-16 11:42:24--  https://www.cis.uni-muenchen.de/~schmid/tools/TreeTagger/data/russian.par.gz\n",
            "Connecting to www.cis.uni-muenchen.de (www.cis.uni-muenchen.de)|129.187.148.72|:443... connected.\n",
            "HTTP request sent, awaiting response... 200 OK\n",
            "Length: 115748255 (110M) [application/x-gzip]\n",
            "Saving to: ‘russian.par.gz’\n",
            "\n",
            "russian.par.gz      100%[===================>] 110.39M  10.0MB/s    in 13s     \n",
            "\n",
            "2019-06-16 11:42:38 (8.46 MB/s) - ‘russian.par.gz’ saved [115748255/115748255]\n",
            "\n"
          ],
          "name": "stdout"
        }
      ]
    },
    {
      "cell_type": "markdown",
      "metadata": {
        "id": "zUTvm68R9Qz8",
        "colab_type": "text"
      },
      "source": [
        "Устанавливаем."
      ]
    },
    {
      "cell_type": "code",
      "metadata": {
        "id": "Y_Zl4nv050G0",
        "colab_type": "code",
        "outputId": "3849e3f1-5311-4512-eefd-18084c1f5874",
        "colab": {
          "base_uri": "https://localhost:8080/",
          "height": 176
        }
      },
      "source": [
        "!sh install-tagger.sh"
      ],
      "execution_count": 6,
      "outputs": [
        {
          "output_type": "stream",
          "text": [
            "\n",
            "TreeTagger version for PC-Linux installed.\n",
            "Tagging scripts installed.\n",
            "Russian parameter file installed.\n",
            "Path variables modified in tagging scripts.\n",
            "\n",
            "You might want to add /content/cmd and /content/bin to the PATH variable so that you do not need to specify the full path to run the tagging scripts.\n",
            "\n"
          ],
          "name": "stdout"
        }
      ]
    },
    {
      "cell_type": "markdown",
      "metadata": {
        "id": "83EIeB1j9TR4",
        "colab_type": "text"
      },
      "source": [
        "Предобученная модель для русского уже есть. Можно потестить."
      ]
    },
    {
      "cell_type": "code",
      "metadata": {
        "id": "opn4plRc50Ij",
        "colab_type": "code",
        "outputId": "1679e066-7cbc-4568-c694-e63830708adb",
        "colab": {
          "base_uri": "https://localhost:8080/",
          "height": 156
        }
      },
      "source": [
        "!echo 'Я хочу съесть яблоко!' | cmd/tree-tagger-russian "
      ],
      "execution_count": 7,
      "outputs": [
        {
          "output_type": "stream",
          "text": [
            "\treading parameters ...\n",
            "\ttagging ...\n",
            "Я\tP-1-snn\tя\n",
            "хочу\tVmip1s-a-e\tхотеть\n",
            "съесть\tVmn----a-p\tсъесть\n",
            "яблоко\tNcnsan\tяблоко\n",
            "!\tSENT\t!\n",
            "\t finished.\n"
          ],
          "name": "stdout"
        }
      ]
    },
    {
      "cell_type": "markdown",
      "metadata": {
        "id": "Va0btbvi9Y55",
        "colab_type": "text"
      },
      "source": [
        "Но тэги тут странноватые. Чтобы оценить это все на нашем корпусе, нужно будет обучить модель заново."
      ]
    },
    {
      "cell_type": "code",
      "metadata": {
        "id": "M0V-1lxg50NF",
        "colab_type": "code",
        "outputId": "269c0fb6-8ddb-4150-ac8d-2449dfdb12c1",
        "colab": {
          "base_uri": "https://localhost:8080/",
          "height": 208
        }
      },
      "source": [
        "!wget http://opencorpora.org/files/export/annot/annot.opcorpora.no_ambig_strict.xml.zip"
      ],
      "execution_count": 8,
      "outputs": [
        {
          "output_type": "stream",
          "text": [
            "--2019-06-16 11:51:23--  http://opencorpora.org/files/export/annot/annot.opcorpora.no_ambig_strict.xml.zip\n",
            "Resolving opencorpora.org (opencorpora.org)... 148.251.2.141\n",
            "Connecting to opencorpora.org (opencorpora.org)|148.251.2.141|:80... connected.\n",
            "HTTP request sent, awaiting response... 200 OK\n",
            "Length: 2194522 (2.1M) [application/zip]\n",
            "Saving to: ‘annot.opcorpora.no_ambig_strict.xml.zip’\n",
            "\n",
            "annot.opcorpora.no_ 100%[===================>]   2.09M  1.01MB/s    in 2.1s    \n",
            "\n",
            "2019-06-16 11:51:26 (1.01 MB/s) - ‘annot.opcorpora.no_ambig_strict.xml.zip’ saved [2194522/2194522]\n",
            "\n"
          ],
          "name": "stdout"
        }
      ]
    },
    {
      "cell_type": "code",
      "metadata": {
        "id": "JHLr7nmv-F3c",
        "colab_type": "code",
        "outputId": "c6577264-6d2c-4ddf-a0f9-d00bcfa8bfaa",
        "colab": {
          "base_uri": "https://localhost:8080/",
          "height": 52
        }
      },
      "source": [
        "!unzip annot.opcorpora.no_ambig_strict.xml.zip"
      ],
      "execution_count": 9,
      "outputs": [
        {
          "output_type": "stream",
          "text": [
            "Archive:  annot.opcorpora.no_ambig_strict.xml.zip\n",
            "  inflating: annot.opcorpora.no_ambig_strict.xml  \n"
          ],
          "name": "stdout"
        }
      ]
    },
    {
      "cell_type": "code",
      "metadata": {
        "id": "dh8OpwE5-F6h",
        "colab_type": "code",
        "colab": {}
      },
      "source": [
        "from lxml import etree\n",
        "from collections import defaultdict"
      ],
      "execution_count": 0,
      "outputs": []
    },
    {
      "cell_type": "code",
      "metadata": {
        "id": "GCuVu_w9-bC2",
        "colab_type": "code",
        "colab": {}
      },
      "source": [
        "open_corpora = etree.fromstring(open('annot.opcorpora.no_ambig_strict.xml', 'rb').read())"
      ],
      "execution_count": 0,
      "outputs": []
    },
    {
      "cell_type": "markdown",
      "metadata": {
        "id": "KAi-Sq0A9num",
        "colab_type": "text"
      },
      "source": [
        "Формат файлов делаем по инструкции."
      ]
    },
    {
      "cell_type": "code",
      "metadata": {
        "id": "PWp7bYeD-bEg",
        "colab_type": "code",
        "colab": {}
      },
      "source": [
        "corpus = open('corpus_train.txt', 'w')\n",
        "vocab = defaultdict(set)\n",
        "tags = set()\n",
        "\n",
        "for sentence in open_corpora.xpath('//tokens'):\n",
        "    length = len(sentence.xpath('token'))\n",
        "    ended = False\n",
        "    for i,token in enumerate(sentence.xpath('token')):\n",
        "        word = token.xpath('@text')\n",
        "        gram_info = token.xpath('tfr/v/l/g/@v')\n",
        "        \n",
        "        if (i+1)==length and gram_info[0] == 'PNCT':\n",
        "            gram_info = ['SENT']\n",
        "            ended = True\n",
        "        \n",
        "            \n",
        "        corpus.write(word[0] + '\\t' + ','.join(gram_info) + '\\n')\n",
        "        lemma = token.xpath('tfr/v/l/@t')[0]\n",
        "        vocab[word[0].lower()].add((','.join(gram_info), lemma.lower()))\n",
        "        tags.add(','.join(gram_info))\n",
        "    \n",
        "    if not ended:\n",
        "        corpus.write('.\\tSENT\\n')\n",
        "\n",
        "        "
      ],
      "execution_count": 0,
      "outputs": []
    },
    {
      "cell_type": "code",
      "metadata": {
        "id": "-0C1_Vp_7oZH",
        "colab_type": "code",
        "colab": {
          "base_uri": "https://localhost:8080/",
          "height": 87
        },
        "outputId": "33c991fb-f327-45c6-d7ae-1a88e0fa33ac"
      },
      "source": [
        "from sklearn.model_selection import KFold\n",
        "f = open('corpus_train.txt', 'r')\n",
        "text = f.readlines()\n",
        "f.close()\n",
        "\n",
        "filenametrain = 'corpus_train_'\n",
        "filenametest = 'corpus_test_'\n",
        "\n",
        "i = 1\n",
        "kf = KFold(n_splits=4, random_state=None, shuffle=False)\n",
        "for train_index, test_index in kf.split(text):\n",
        "  text_train = []\n",
        "  text_test = []\n",
        "  for i in train_index:\n",
        "    text_train.append(text[i])\n",
        "  for i in test_index:\n",
        "    text_test.append(text[i])\n",
        "  fullfilenametrain = filenametrain + str(i) + '.txt'\n",
        "  newcorpustrain = open(fullfilenametrain, 'w')\n",
        "  print (fullfilenametrain)\n",
        "  for el in text_train:\n",
        "    newcorpustrain.write(el)\n",
        "  fullfilenametest = filenametest + str(i) + '.txt'\n",
        "  newcorpustest = open(fullfilenametest, 'w')\n",
        "  for el in text_train:\n",
        "    newcorpustest.write(el)\n",
        "  i+=1\n",
        "  \n"
      ],
      "execution_count": 13,
      "outputs": [
        {
          "output_type": "stream",
          "text": [
            "corpus_train_17836.txt\n",
            "corpus_train_35672.txt\n",
            "corpus_train_53508.txt\n",
            "corpus_train_71344.txt\n"
          ],
          "name": "stdout"
        }
      ]
    },
    {
      "cell_type": "markdown",
      "metadata": {
        "id": "Ow7I0AkC9rsa",
        "colab_type": "text"
      },
      "source": [
        "Словарь создаем по инструкции."
      ]
    },
    {
      "cell_type": "code",
      "metadata": {
        "id": "2ffrmMswF7h-",
        "colab_type": "code",
        "colab": {}
      },
      "source": [
        "f = open('lexicon.txt', 'w')\n",
        "\n",
        "for word in vocab:\n",
        "    f.write(word + '\\t')\n",
        "    f.write('\\t'.join([' '.join(pair) for pair in vocab[word]]))\n",
        "    f.write('\\n')\n",
        "# f.write('SENT\\tSENT .')\n",
        "f.close()"
      ],
      "execution_count": 0,
      "outputs": []
    },
    {
      "cell_type": "markdown",
      "metadata": {
        "id": "IoUI-i1A9yS1",
        "colab_type": "text"
      },
      "source": [
        "Словарь для UNK создаем по инструкции."
      ]
    },
    {
      "cell_type": "code",
      "metadata": {
        "id": "d1MbTCEKG4gj",
        "colab_type": "code",
        "colab": {}
      },
      "source": [
        "f = open('open_class.txt', 'w')\n",
        "\n",
        "f.write('\\n'.join([tag for tag in tags if 'NOUN' in tag or 'VERB' in tag or 'ADJF' in tag]))\n",
        "f.close()"
      ],
      "execution_count": 0,
      "outputs": []
    },
    {
      "cell_type": "markdown",
      "metadata": {
        "id": "0f-dRAFWOD6p",
        "colab_type": "text"
      },
      "source": [
        "**1-ый фолд**"
      ]
    },
    {
      "cell_type": "code",
      "metadata": {
        "id": "Ti11JOzcYpED",
        "colab_type": "code",
        "colab": {
          "base_uri": "https://localhost:8080/",
          "height": 433
        },
        "outputId": "15ee5c2d-e1e5-4155-c07f-c23c21531c7f"
      },
      "source": [
        " !./bin/train-tree-tagger lexicon.txt open_class.txt corpus_train_17836.txt model_oc "
      ],
      "execution_count": 16,
      "outputs": [
        {
          "output_type": "stream",
          "text": [
            "\n",
            "train-tree-tagger -cl 2 -dtg 0.50 -sw 1.00 -ecw 0.15 -atg 1.20 lexicon.txt open_class.txt corpus_train_17836.txt model_oc\n",
            "\n",
            "\treading the lexicon ...\n",
            "\t\treading the tagset ...\n",
            "\t\treading the lemmas ...\n",
            "\t\treading the entries ...\n",
            "\t\tsorting the lexicon ...\n",
            "\t\treading the open class tags ...\n",
            "\tcalculating tag frequencies ...\n",
            "\r1000\r2000\r3000\r4000\r5000\r6000\r7000\r8000\r9000\r10000\r11000\r12000\r13000\r14000\r15000\r16000\r17000\r18000\r19000\r20000\r21000\r22000\r23000\r24000\r25000\r26000\r27000\r28000\r29000\r30000\r31000\r32000\r33000\r34000\r35000\r36000\r37000\r38000\r39000\r40000\r41000\r42000\r43000\tmaking affix tree ...\n",
            "prefix lexicon: 807 nodes\n",
            "suffix lexicon: 1801 nodes\n",
            "\treading classes ...\n",
            "\tmaking ngram table ...\n",
            "\r1000\t852\r2000\t1693\r3000\t2525\r4000\t3335\r5000\t4044\r6000\t4759\r7000\t5489\r8000\t6171\r9000\t6881\r10000\t7556\r11000\t8224\r12000\t8872\r13000\t9444\r14000\t10047\r15000\t10676\r16000\t11177\r17000\t11750\r18000\t12383\r19000\t12948\r20000\t13465\r21000\t13955\r22000\t14395\r23000\t14864\r24000\t15254\r25000\t15816\r26000\t16204\r27000\t16452\r28000\t16825\r29000\t17216\r30000\t17628\r31000\t18033\r32000\t18494\r33000\t18924\r34000\t19364\r35000\t19828\r36000\t20203\r37000\t20554\r38000\t20819\r39000\t21252\r40000\t21664\r41000\t22067\r42000\t22425\r43000\t22766\r44000\t23118\r45000\t23566\r46000\t24020\r47000\t24475\r48000\t24897\r49000\t25282\r50000\t25573\r51000\t25916\r52000\t26249\r53000\t26598\r53508\t26652\n",
            "finished.\n",
            "\tmaking decision tree ...\n",
            "90\tsaving parameters ...\n",
            "\n",
            "Number of nodes: 91\n",
            "Max. path length: 16\n",
            "\n",
            "done.\n"
          ],
          "name": "stdout"
        }
      ]
    },
    {
      "cell_type": "code",
      "metadata": {
        "id": "ZOIlVOF7xNE0",
        "colab_type": "code",
        "colab": {}
      },
      "source": [
        "test = open('test_corpus.txt', 'w')\n",
        "\n",
        "test.write('\\n'.join('Я хочу съесть яблоко .'.split()))\n",
        "\n",
        "test.close()"
      ],
      "execution_count": 0,
      "outputs": []
    },
    {
      "cell_type": "code",
      "metadata": {
        "id": "9tsgrLND-bOu",
        "colab_type": "code",
        "outputId": "7b92d6d6-49ee-44d4-81d0-5c2a4a884449",
        "colab": {
          "base_uri": "https://localhost:8080/",
          "height": 156
        }
      },
      "source": [
        "!./bin/tree-tagger model_oc test_corpus.txt output.txt\n",
        "!head output.txt"
      ],
      "execution_count": 24,
      "outputs": [
        {
          "output_type": "stream",
          "text": [
            "\treading parameters ...\n",
            "\ttagging ...\n",
            "\t finished.\n",
            "NOUN,inan,masc,sing,nomn\n",
            "VERB,impf,tran,sing,1per,pres,indc\n",
            "VERB,perf,tran,masc,sing,past,indc\n",
            "NOUN,anim,masc,Name,sing,nomn\n",
            "SENT\n"
          ],
          "name": "stdout"
        }
      ]
    },
    {
      "cell_type": "code",
      "metadata": {
        "id": "SqQK1I2jhk2v",
        "colab_type": "code",
        "colab": {}
      },
      "source": [
        "import re\n",
        "testwords = open('testcorpus1.txt', 'w')\n",
        "testlabels = open('testlabels1.txt', 'w')\n",
        "f = open('corpus_test_17836.txt', 'r')\n",
        "firsttest = f.readlines()\n",
        "f.close()\n",
        "for line in firsttest:\n",
        "  splitline = re.split(r'\\t+', line)\n",
        "  testwords.write(splitline[0])\n",
        "  testwords.write('\\n')\n",
        "  testlabels.write(splitline[1])\n",
        "testwords.close()\n",
        "testlabels.close()\n"
      ],
      "execution_count": 0,
      "outputs": []
    },
    {
      "cell_type": "code",
      "metadata": {
        "id": "BZDydvVnL_67",
        "colab_type": "code",
        "colab": {
          "base_uri": "https://localhost:8080/",
          "height": 69
        },
        "outputId": "b747b07b-f452-4c2b-8a96-6d5078f6f5da"
      },
      "source": [
        "!./bin/tree-tagger model_oc testcorpus1.txt testoutput1.txt"
      ],
      "execution_count": 30,
      "outputs": [
        {
          "output_type": "stream",
          "text": [
            "\treading parameters ...\n",
            "\ttagging ...\n",
            "53000\t finished.\n"
          ],
          "name": "stdout"
        }
      ]
    },
    {
      "cell_type": "code",
      "metadata": {
        "id": "RaJjjlx8Mucj",
        "colab_type": "code",
        "colab": {}
      },
      "source": [
        "to = open('testoutput1.txt', 'r')\n",
        "testoutput1 = to.readlines()\n",
        "to.close()\n",
        "tl = open('testlabels1.txt', 'r')\n",
        "testlabels1 = tl.readlines()\n",
        "tl.close()"
      ],
      "execution_count": 0,
      "outputs": []
    },
    {
      "cell_type": "code",
      "metadata": {
        "colab_type": "code",
        "id": "R8CVYtPlSz0s",
        "colab": {}
      },
      "source": [
        "from collections import Counter\n",
        "import numpy as np\n",
        "\n",
        "preds1 = []\n",
        "mistakes1 = Counter()\n",
        "tc = open('testcorpus1.txt', 'r')\n",
        "testcorpus1 = tc.readlines()\n",
        "tc.close()\n",
        "for i in range (0,53508):\n",
        "  p = int(testlabels1[i] == testoutput1[i])\n",
        "  preds1.append(p)\n",
        "  if not p:\n",
        "    mistakes1.update([(testcorpus1[i], testlabels1[i], testoutput1[i])])"
      ],
      "execution_count": 0,
      "outputs": []
    },
    {
      "cell_type": "code",
      "metadata": {
        "id": "E93vjI2wXQ0s",
        "colab_type": "code",
        "colab": {
          "base_uri": "https://localhost:8080/",
          "height": 139
        },
        "outputId": "0c531653-03de-4df4-f59b-5f369cde4c10"
      },
      "source": [
        "print(np.mean(preds1))\n",
        "mistakes1.most_common(5)\n"
      ],
      "execution_count": 57,
      "outputs": [
        {
          "output_type": "stream",
          "text": [
            "0.8031582881704354\n"
          ],
          "name": "stdout"
        },
        {
          "output_type": "execute_result",
          "data": {
            "text/plain": [
              "[(('Статья\\n', 'NOUN,inan,femn,sing,nomn\\n', 'NOUN,inan,masc,sing,nomn\\n'),\n",
              "  364),\n",
              " (('В\\n', 'PREP\\n', 'NOUN,inan,masc,sing,nomn\\n'), 321),\n",
              " (('.\\n', 'PNCT\\n', 'SENT\\n'), 299),\n",
              " (('Я\\n', 'NPRO,1per,sing,nomn\\n', 'NOUN,inan,masc,sing,nomn\\n'), 132),\n",
              " ((',\\n', 'SENT\\n', 'PNCT\\n'), 97)]"
            ]
          },
          "metadata": {
            "tags": []
          },
          "execution_count": 57
        }
      ]
    },
    {
      "cell_type": "markdown",
      "metadata": {
        "id": "MD2Y35Q7N3x6",
        "colab_type": "text"
      },
      "source": [
        "**2-ой фолд**"
      ]
    },
    {
      "cell_type": "code",
      "metadata": {
        "id": "9YJVf7XLbCs3",
        "colab_type": "code",
        "colab": {
          "base_uri": "https://localhost:8080/",
          "height": 433
        },
        "outputId": "b4d68473-3dad-4281-df67-8fbf782ac6cf"
      },
      "source": [
        "!./bin/train-tree-tagger lexicon.txt open_class.txt corpus_train_35672.txt model_oc1 "
      ],
      "execution_count": 33,
      "outputs": [
        {
          "output_type": "stream",
          "text": [
            "\n",
            "train-tree-tagger -cl 2 -dtg 0.50 -sw 1.00 -ecw 0.15 -atg 1.20 lexicon.txt open_class.txt corpus_train_35672.txt model_oc1\n",
            "\n",
            "\treading the lexicon ...\n",
            "\t\treading the tagset ...\n",
            "\t\treading the lemmas ...\n",
            "\t\treading the entries ...\n",
            "\t\tsorting the lexicon ...\n",
            "\t\treading the open class tags ...\n",
            "\tcalculating tag frequencies ...\n",
            "\r1000\r2000\r3000\r4000\r5000\r6000\r7000\r8000\r9000\r10000\r11000\r12000\r13000\r14000\r15000\r16000\r17000\r18000\r19000\r20000\r21000\r22000\r23000\r24000\r25000\r26000\r27000\r28000\r29000\r30000\r31000\r32000\r33000\r34000\r35000\r36000\r37000\r38000\r39000\r40000\r41000\r42000\r43000\tmaking affix tree ...\n",
            "prefix lexicon: 807 nodes\n",
            "suffix lexicon: 1789 nodes\n",
            "\treading classes ...\n",
            "\tmaking ngram table ...\n",
            "\r1000\t943\r2000\t1734\r3000\t2524\r4000\t3306\r5000\t3893\r6000\t4601\r7000\t5248\r8000\t5815\r9000\t6497\r10000\t7176\r11000\t7832\r12000\t8481\r13000\t9117\r14000\t9726\r15000\t10326\r16000\t10838\r17000\t11403\r18000\t12024\r19000\t12591\r20000\t13121\r21000\t13589\r22000\t14025\r23000\t14494\r24000\t14873\r25000\t15452\r26000\t15827\r27000\t16062\r28000\t16428\r29000\t16820\r30000\t17251\r31000\t17691\r32000\t18157\r33000\t18575\r34000\t19010\r35000\t19476\r36000\t19843\r37000\t20201\r38000\t20473\r39000\t20905\r40000\t21307\r41000\t21719\r42000\t22068\r43000\t22403\r44000\t22751\r45000\t23198\r46000\t23655\r47000\t24129\r48000\t24569\r49000\t24951\r50000\t25233\r51000\t25579\r52000\t25922\r53000\t26257\r53509\t26310\n",
            "finished.\n",
            "\tmaking decision tree ...\n",
            "96\tsaving parameters ...\n",
            "\n",
            "Number of nodes: 97\n",
            "Max. path length: 16\n",
            "\n",
            "done.\n"
          ],
          "name": "stdout"
        }
      ]
    },
    {
      "cell_type": "code",
      "metadata": {
        "id": "JgxxLzVZN1X1",
        "colab_type": "code",
        "colab": {}
      },
      "source": [
        "testwords = open('testcorpus2.txt', 'w')\n",
        "testlabels = open('testlabels2.txt', 'w')\n",
        "f = open('corpus_test_35672.txt', 'r')\n",
        "secttest = f.readlines()\n",
        "f.close()\n",
        "for line in secttest:\n",
        "  splitline = re.split(r'\\t+', line)\n",
        "  testwords.write(splitline[0])\n",
        "  testwords.write('\\n')\n",
        "  testlabels.write(splitline[1])\n",
        "testwords.close()\n",
        "testlabels.close()"
      ],
      "execution_count": 0,
      "outputs": []
    },
    {
      "cell_type": "code",
      "metadata": {
        "id": "c3aWqzHmbOci",
        "colab_type": "code",
        "colab": {
          "base_uri": "https://localhost:8080/",
          "height": 69
        },
        "outputId": "0e274ff0-5f9e-415e-ca47-9f171713a766"
      },
      "source": [
        "!./bin/tree-tagger model_oc1 testcorpus2.txt testoutput2.txt"
      ],
      "execution_count": 53,
      "outputs": [
        {
          "output_type": "stream",
          "text": [
            "\treading parameters ...\n",
            "\ttagging ...\n",
            "\r1000\r2000\r3000\r4000\r5000\r6000\r7000\r8000\r9000\r10000\r11000\r12000\r13000\r14000\r15000\r16000\r17000\r18000\r19000\r20000\r21000\r22000\r23000\r24000\r25000\r26000\r27000\r28000\r29000\r30000\r31000\r32000\r33000\r34000\r35000\r36000\r37000\r38000\r39000\r40000\r41000\r42000\r43000\r44000\r45000\r46000\r47000\r48000\r49000\r50000\r51000\r52000\r53000\t finished.\n"
          ],
          "name": "stdout"
        }
      ]
    },
    {
      "cell_type": "code",
      "metadata": {
        "id": "ZOrK2a6JX_-1",
        "colab_type": "code",
        "colab": {}
      },
      "source": [
        "to = open('testoutput2.txt', 'r')\n",
        "testoutput2 = to.readlines()\n",
        "to.close()\n",
        "tl = open('testlabels2.txt', 'r')\n",
        "testlabels2 = tl.readlines()\n",
        "tl.close()"
      ],
      "execution_count": 0,
      "outputs": []
    },
    {
      "cell_type": "code",
      "metadata": {
        "id": "--EAC3IxYVp4",
        "colab_type": "code",
        "colab": {}
      },
      "source": [
        "preds2 = []\n",
        "mistakes2 = Counter()\n",
        "tc = open('testcorpus2.txt', 'r')\n",
        "testcorpus2 = tc.readlines()\n",
        "tc.close()\n",
        "for i in range (0,53508):\n",
        "  p = int(testlabels2[i] == testoutput2[i])\n",
        "  preds2.append(p)\n",
        "  if not p:\n",
        "    mistakes2.update([(testcorpus2[i], testlabels2[i], testoutput2[i])])"
      ],
      "execution_count": 0,
      "outputs": []
    },
    {
      "cell_type": "code",
      "metadata": {
        "id": "V9U07Y2nYqzR",
        "colab_type": "code",
        "colab": {
          "base_uri": "https://localhost:8080/",
          "height": 139
        },
        "outputId": "c3740608-b12c-4d59-c40b-895e8efbdd32"
      },
      "source": [
        "print(np.mean(preds2))\n",
        "mistakes2.most_common(5)"
      ],
      "execution_count": 59,
      "outputs": [
        {
          "output_type": "stream",
          "text": [
            "0.8026276444643792\n"
          ],
          "name": "stdout"
        },
        {
          "output_type": "execute_result",
          "data": {
            "text/plain": [
              "[(('Статья\\n', 'NOUN,inan,femn,sing,nomn\\n', 'NOUN,inan,masc,sing,nomn\\n'),\n",
              "  365),\n",
              " (('В\\n', 'PREP\\n', 'NOUN,inan,masc,sing,nomn\\n'), 329),\n",
              " (('.\\n', 'PNCT\\n', 'SENT\\n'), 292),\n",
              " (('Я\\n', 'NPRO,1per,sing,nomn\\n', 'NOUN,inan,masc,sing,nomn\\n'), 115),\n",
              " (('Не\\n', 'PRCL\\n', 'NOUN,inan,masc,sing,nomn\\n'), 100)]"
            ]
          },
          "metadata": {
            "tags": []
          },
          "execution_count": 59
        }
      ]
    },
    {
      "cell_type": "markdown",
      "metadata": {
        "id": "8JRRBsKDOdds",
        "colab_type": "text"
      },
      "source": [
        "**3-ий фолд**"
      ]
    },
    {
      "cell_type": "code",
      "metadata": {
        "id": "3sLKm3Bpbxn1",
        "colab_type": "code",
        "colab": {
          "base_uri": "https://localhost:8080/",
          "height": 433
        },
        "outputId": "ca3d8de7-fe80-4d07-b5eb-4ebdd0e2d701"
      },
      "source": [
        "!./bin/train-tree-tagger lexicon.txt open_class.txt corpus_train_53508.txt model_oc2"
      ],
      "execution_count": 60,
      "outputs": [
        {
          "output_type": "stream",
          "text": [
            "\n",
            "train-tree-tagger -cl 2 -dtg 0.50 -sw 1.00 -ecw 0.15 -atg 1.20 lexicon.txt open_class.txt corpus_train_53508.txt model_oc2\n",
            "\n",
            "\treading the lexicon ...\n",
            "\t\treading the tagset ...\n",
            "\t\treading the lemmas ...\n",
            "\t\treading the entries ...\n",
            "\t\tsorting the lexicon ...\n",
            "\t\treading the open class tags ...\n",
            "\tcalculating tag frequencies ...\n",
            "\r1000\r2000\r3000\r4000\r5000\r6000\r7000\r8000\r9000\r10000\r11000\r12000\r13000\r14000\r15000\r16000\r17000\r18000\r19000\r20000\r21000\r22000\r23000\r24000\r25000\r26000\r27000\r28000\r29000\r30000\r31000\r32000\r33000\r34000\r35000\r36000\r37000\r38000\r39000\r40000\r41000\r42000\r43000\tmaking affix tree ...\n",
            "prefix lexicon: 807 nodes\n",
            "suffix lexicon: 1792 nodes\n",
            "\treading classes ...\n",
            "\tmaking ngram table ...\n",
            "\r1000\t943\r2000\t1734\r3000\t2524\r4000\t3306\r5000\t3893\r6000\t4601\r7000\t5248\r8000\t5815\r9000\t6497\r10000\t7176\r11000\t7832\r12000\t8481\r13000\t9117\r14000\t9726\r15000\t10326\r16000\t10838\r17000\t11403\r18000\t12028\r19000\t12516\r20000\t13106\r21000\t13706\r22000\t14293\r23000\t14802\r24000\t15353\r25000\t15898\r26000\t16444\r27000\t17023\r28000\t17567\r29000\t18099\r30000\t18631\r31000\t19119\r32000\t19623\r33000\t20143\r34000\t20530\r35000\t21043\r36000\t21510\r37000\t21867\r38000\t22140\r39000\t22573\r40000\t22987\r41000\t23397\r42000\t23758\r43000\t24081\r44000\t24432\r45000\t24875\r46000\t25331\r47000\t25782\r48000\t26215\r49000\t26596\r50000\t26892\r51000\t27235\r52000\t27560\r53000\t27894\r53509\t27954\n",
            "finished.\n",
            "\tmaking decision tree ...\n",
            "76\tsaving parameters ...\n",
            "\n",
            "Number of nodes: 77\n",
            "Max. path length: 15\n",
            "\n",
            "done.\n"
          ],
          "name": "stdout"
        }
      ]
    },
    {
      "cell_type": "code",
      "metadata": {
        "id": "vx_uHUmhZSs1",
        "colab_type": "code",
        "colab": {}
      },
      "source": [
        "testwords = open('testcorpus3.txt', 'w')\n",
        "testlabels = open('testlabels3.txt', 'w')\n",
        "f = open('corpus_test_53508.txt', 'r')\n",
        "thirdtest = f.readlines()\n",
        "f.close()\n",
        "for line in thirdtest:\n",
        "  splitline = re.split(r'\\t+', line)\n",
        "  testwords.write(splitline[0])\n",
        "  testwords.write('\\n')\n",
        "  testlabels.write(splitline[1])\n",
        "testwords.close()\n",
        "testlabels.close()"
      ],
      "execution_count": 0,
      "outputs": []
    },
    {
      "cell_type": "code",
      "metadata": {
        "id": "o0nrnEembyQe",
        "colab_type": "code",
        "colab": {
          "base_uri": "https://localhost:8080/",
          "height": 243
        },
        "outputId": "4f509747-3cac-4fe6-f5fd-87895c82d30e"
      },
      "source": [
        "!./bin/tree-tagger model_oc2 testcorpus3.txt testoutput3.txt\n"
      ],
      "execution_count": 62,
      "outputs": [
        {
          "output_type": "stream",
          "text": [
            "\treading parameters ...\n",
            "\ttagging ...\n",
            "\r1000\r2000\r3000\r4000\r5000\r6000\r7000\r8000\r9000\r10000\r11000\r12000\r13000\r14000\r15000\r16000\r17000\r18000\r19000\r20000\r21000\r22000\r23000\r24000\r25000\r26000\r27000\r28000\r29000\r30000\r31000\r32000\r33000\r34000\r35000\r36000\r37000\r38000\r39000\r40000\r41000\r42000\r43000\r44000\r45000\r46000\r47000\r48000\r49000\r50000\r51000\r52000\r53000\t finished.\n",
            "PNCT\n",
            "NOUN,inan,masc,sing,nomn\n",
            "NOUN,inan,neut,sing,gent\n",
            "PNCT\n",
            "VERB,impf,tran,sing,3per,pres,indc\n",
            "INFN,perf,tran\n",
            "NOUN,inan,masc,sing,accs\n",
            "SENT\n",
            "NOUN,inan,masc,sing,nomn\n",
            "PRCL\n"
          ],
          "name": "stdout"
        }
      ]
    },
    {
      "cell_type": "code",
      "metadata": {
        "id": "D1kQpPYwZkPZ",
        "colab_type": "code",
        "colab": {}
      },
      "source": [
        "to = open('testoutput3.txt', 'r')\n",
        "testoutput3 = to.readlines()\n",
        "to.close()\n",
        "tl = open('testlabels3.txt', 'r')\n",
        "testlabels3 = tl.readlines()\n",
        "tl.close()"
      ],
      "execution_count": 0,
      "outputs": []
    },
    {
      "cell_type": "code",
      "metadata": {
        "id": "CDeGc3d1Zr9j",
        "colab_type": "code",
        "colab": {}
      },
      "source": [
        "preds3 = []\n",
        "mistakes3 = Counter()\n",
        "tc = open('testcorpus3.txt', 'r')\n",
        "testcorpus3 = tc.readlines()\n",
        "tc.close()\n",
        "for i in range (0,53508):\n",
        "  p = int(testlabels3[i] == testoutput3[i])\n",
        "  preds3.append(p)\n",
        "  if not p:\n",
        "    mistakes3.update([(testcorpus3[i], testlabels3[i], testoutput3[i])])"
      ],
      "execution_count": 0,
      "outputs": []
    },
    {
      "cell_type": "code",
      "metadata": {
        "id": "lrI-GJ8UZsPJ",
        "colab_type": "code",
        "colab": {
          "base_uri": "https://localhost:8080/",
          "height": 121
        },
        "outputId": "722cd90e-1c59-4cdf-d22d-02dcf0d71f68"
      },
      "source": [
        "print(np.mean(preds3))\n",
        "mistakes3.most_common(5)"
      ],
      "execution_count": 66,
      "outputs": [
        {
          "output_type": "stream",
          "text": [
            "0.8039358600583091\n"
          ],
          "name": "stdout"
        },
        {
          "output_type": "execute_result",
          "data": {
            "text/plain": [
              "[(('В\\n', 'PREP\\n', 'NOUN,inan,masc,sing,nomn\\n'), 352),\n",
              " (('.\\n', 'PNCT\\n', 'SENT\\n'), 287),\n",
              " (('Я\\n', 'NPRO,1per,sing,nomn\\n', 'NOUN,inan,masc,sing,nomn\\n'), 143),\n",
              " (('Не\\n', 'PRCL\\n', 'NOUN,inan,masc,sing,nomn\\n'), 101),\n",
              " (('»\\n', 'SENT\\n', 'PNCT\\n'), 86)]"
            ]
          },
          "metadata": {
            "tags": []
          },
          "execution_count": 66
        }
      ]
    },
    {
      "cell_type": "markdown",
      "metadata": {
        "id": "tMZWdw5eOQl8",
        "colab_type": "text"
      },
      "source": [
        "**4-ый фолд**\n"
      ]
    },
    {
      "cell_type": "code",
      "metadata": {
        "id": "U-v_X6rqb7KW",
        "colab_type": "code",
        "colab": {
          "base_uri": "https://localhost:8080/",
          "height": 433
        },
        "outputId": "b7c0d243-6c91-4b4c-f564-9c1ee5bd4e16"
      },
      "source": [
        "!./bin/train-tree-tagger lexicon.txt open_class.txt corpus_train_71344.txt model_oc3"
      ],
      "execution_count": 67,
      "outputs": [
        {
          "output_type": "stream",
          "text": [
            "\n",
            "train-tree-tagger -cl 2 -dtg 0.50 -sw 1.00 -ecw 0.15 -atg 1.20 lexicon.txt open_class.txt corpus_train_71344.txt model_oc3\n",
            "\n",
            "\treading the lexicon ...\n",
            "\t\treading the tagset ...\n",
            "\t\treading the lemmas ...\n",
            "\t\treading the entries ...\n",
            "\t\tsorting the lexicon ...\n",
            "\t\treading the open class tags ...\n",
            "\tcalculating tag frequencies ...\n",
            "\r1000\r2000\r3000\r4000\r5000\r6000\r7000\r8000\r9000\r10000\r11000\r12000\r13000\r14000\r15000\r16000\r17000\r18000\r19000\r20000\r21000\r22000\r23000\r24000\r25000\r26000\r27000\r28000\r29000\r30000\r31000\r32000\r33000\r34000\r35000\r36000\r37000\r38000\r39000\r40000\r41000\r42000\r43000\tmaking affix tree ...\n",
            "prefix lexicon: 807 nodes\n",
            "suffix lexicon: 1804 nodes\n",
            "\treading classes ...\n",
            "\tmaking ngram table ...\n",
            "\r1000\t943\r2000\t1734\r3000\t2524\r4000\t3306\r5000\t3893\r6000\t4601\r7000\t5248\r8000\t5815\r9000\t6497\r10000\t7176\r11000\t7832\r12000\t8481\r13000\t9117\r14000\t9726\r15000\t10326\r16000\t10838\r17000\t11403\r18000\t12028\r19000\t12516\r20000\t13106\r21000\t13706\r22000\t14293\r23000\t14802\r24000\t15353\r25000\t15898\r26000\t16444\r27000\t17023\r28000\t17567\r29000\t18099\r30000\t18631\r31000\t19119\r32000\t19623\r33000\t20143\r34000\t20530\r35000\t21043\r36000\t21568\r37000\t22020\r38000\t22417\r39000\t22840\r40000\t23175\r41000\t23611\r42000\t23938\r43000\t24411\r44000\t24714\r45000\t24911\r46000\t25250\r47000\t25579\r48000\t25982\r49000\t26353\r50000\t26782\r51000\t27149\r52000\t27532\r53000\t27930\r53412\t28079\n",
            "finished.\n",
            "\tmaking decision tree ...\n",
            "82\tsaving parameters ...\n",
            "\n",
            "Number of nodes: 83\n",
            "Max. path length: 14\n",
            "\n",
            "done.\n"
          ],
          "name": "stdout"
        }
      ]
    },
    {
      "cell_type": "code",
      "metadata": {
        "id": "a23vRdhRaSox",
        "colab_type": "code",
        "colab": {}
      },
      "source": [
        "testwords = open('testcorpus4.txt', 'w')\n",
        "testlabels = open('testlabels4.txt', 'w')\n",
        "f = open('corpus_test_71344.txt', 'r')\n",
        "fourtest = f.readlines()\n",
        "f.close()\n",
        "for line in fourtest:\n",
        "  splitline = re.split(r'\\t+', line)\n",
        "  testwords.write(splitline[0])\n",
        "  testwords.write('\\n')\n",
        "  testlabels.write(splitline[1])\n",
        "testwords.close()\n",
        "testlabels.close()"
      ],
      "execution_count": 0,
      "outputs": []
    },
    {
      "cell_type": "code",
      "metadata": {
        "id": "WYcLzOrLcUR6",
        "colab_type": "code",
        "colab": {
          "base_uri": "https://localhost:8080/",
          "height": 69
        },
        "outputId": "00db4b7b-3d86-4ae3-c687-aa7cd8f5db03"
      },
      "source": [
        "!./bin/tree-tagger model_oc3 testcorpus4.txt testoutput4.txt"
      ],
      "execution_count": 70,
      "outputs": [
        {
          "output_type": "stream",
          "text": [
            "\treading parameters ...\n",
            "\ttagging ...\n",
            "53000\t finished.\n"
          ],
          "name": "stdout"
        }
      ]
    },
    {
      "cell_type": "code",
      "metadata": {
        "id": "ryP2YtW4aoCt",
        "colab_type": "code",
        "colab": {}
      },
      "source": [
        "to = open('testoutput4.txt', 'r')\n",
        "testoutput4 = to.readlines()\n",
        "to.close()\n",
        "tl = open('testlabels4.txt', 'r')\n",
        "testlabels4 = tl.readlines()\n",
        "tl.close()"
      ],
      "execution_count": 0,
      "outputs": []
    },
    {
      "cell_type": "code",
      "metadata": {
        "id": "NRNViz9TaqyF",
        "colab_type": "code",
        "colab": {}
      },
      "source": [
        "preds4 = []\n",
        "mistakes4 = Counter()\n",
        "tc = open('testcorpus4.txt', 'r')\n",
        "testcorpus4 = tc.readlines()\n",
        "tc.close()\n",
        "for i in range (0,53412):\n",
        "  p = int(testlabels4[i] == testoutput4[i])\n",
        "  preds4.append(p)\n",
        "  if not p:\n",
        "    mistakes4.update([(testcorpus4[i], testlabels4[i], testoutput4[i])])"
      ],
      "execution_count": 0,
      "outputs": []
    },
    {
      "cell_type": "code",
      "metadata": {
        "id": "RoFRpxTkc5AX",
        "colab_type": "code",
        "colab": {
          "base_uri": "https://localhost:8080/",
          "height": 139
        },
        "outputId": "b2385180-3ff5-4007-b1f4-b3324b647ae8"
      },
      "source": [
        "print(np.mean(preds4))\n",
        "mistakes4.most_common(5)"
      ],
      "execution_count": 78,
      "outputs": [
        {
          "output_type": "stream",
          "text": [
            "0.8081704485883322\n"
          ],
          "name": "stdout"
        },
        {
          "output_type": "execute_result",
          "data": {
            "text/plain": [
              "[(('Статья\\n', 'NOUN,inan,femn,sing,nomn\\n', 'NOUN,inan,masc,sing,nomn\\n'),\n",
              "  348),\n",
              " (('В\\n', 'PREP\\n', 'NOUN,inan,masc,sing,nomn\\n'), 335),\n",
              " (('.\\n', 'PNCT\\n', 'SENT\\n'), 254),\n",
              " (('Я\\n', 'NPRO,1per,sing,nomn\\n', 'NOUN,inan,masc,sing,nomn\\n'), 134),\n",
              " ((',\\n', 'SENT\\n', 'PNCT\\n'), 90)]"
            ]
          },
          "metadata": {
            "tags": []
          },
          "execution_count": 78
        }
      ]
    },
    {
      "cell_type": "markdown",
      "metadata": {
        "id": "zUSqdoyubWkF",
        "colab_type": "text"
      },
      "source": [
        "Среднее качество по всем фолдам 81%. Самые частотные ошибки это знаки препинания, которые программа не может сама рзличать. Так же слово Статья, которое выделяется как слово мужского рода. Моё предположение, что оно часто используется в сочетании со словами говорится, пишется, которые обычно идут с мужским родом.\n",
        "Так же три теггер помечал слово Я как существительнео мужского рода. МНе кажется, что это произошло, из-за того что большое количество рассказчиков мужчины, от чего у программы выстроились не совсем правильные связи"
      ]
    },
    {
      "cell_type": "code",
      "metadata": {
        "id": "1pRAAuv2cUPK",
        "colab_type": "code",
        "colab": {}
      },
      "source": [
        ""
      ],
      "execution_count": 0,
      "outputs": []
    }
  ]
}